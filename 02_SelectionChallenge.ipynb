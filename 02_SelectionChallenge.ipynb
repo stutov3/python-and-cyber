{
  "nbformat": 4,
  "nbformat_minor": 0,
  "metadata": {
    "colab": {
      "provenance": [],
      "include_colab_link": true
    },
    "kernelspec": {
      "name": "python3",
      "display_name": "Python 3"
    },
    "language_info": {
      "name": "python"
    }
  },
  "cells": [
    {
      "cell_type": "markdown",
      "metadata": {
        "id": "view-in-github",
        "colab_type": "text"
      },
      "source": [
        "<a href=\"https://colab.research.google.com/github/stutov3/python-and-cyber/blob/main/02_SelectionChallenge.ipynb\" target=\"_parent\"><img src=\"https://colab.research.google.com/assets/colab-badge.svg\" alt=\"Open In Colab\"/></a>"
      ]
    },
    {
      "cell_type": "markdown",
      "source": [
        "<a href=\"https://colab.research.google.com/github/StefanMeyer7/Python-Fundamentals/blob/main/SelectionChallenge.ipynb\" target=\"_parent\"><img src=\"https://colab.research.google.com/assets/colab-badge.svg\" alt=\"Open In Colab\"/></a>"
      ],
      "metadata": {
        "id": "hypbENCo_DGn"
      }
    },
    {
      "cell_type": "markdown",
      "source": [
        "# Three selection challenges\n",
        "\n",
        "---\n"
      ],
      "metadata": {
        "id": "dXBVr9XG_X_R"
      }
    },
    {
      "cell_type": "markdown",
      "source": [
        "### Challenge 1 - password format  \n",
        "\n",
        "Write a function called **check_password_valid()** which will check the validity of a **password** input by a user.\n",
        "\n",
        "Rules for a valid password are:  \n",
        "\n",
        "*  At least 1 letter between [a-z] and 1 letter between [A-Z].\n",
        "*  At least 1 number between [0-9].\n",
        "*  At least 1 character from [$#@].\n",
        "*  Minimum length 6 characters.\n",
        "*  Maximum length 16 characters.  \n",
        "\n",
        "Let the user know if the `password` they have typed is valid and, if not, where was the first error.\n",
        "\n",
        "*Hint:  to test if a set of characters is present in a password String, you can use re.search('[character set]', `password`)*  \n",
        "\n",
        "Example:   \n",
        "*if re.search('[a-z]',`password`):*    \n",
        "if there is at least 1 character a-z in the password, re.search will not be None.\n",
        "\n",
        "**re** is a pre-written Python function for pattern searching in Strings.  It has been imported for you in the code cell below.  "
      ],
      "metadata": {
        "id": "_6gwhxsa_Yqt"
      }
    },
    {
      "cell_type": "code",
      "source": [
        "import re\n",
        "\n",
        "# add your check_PasswordValid() function and call below here\n",
        "def check_password_valid(password):\n",
        "\n",
        "    if not re.search('[a-zA-Z]', password):\n",
        "        return \"Invalid password: It must contain at least 1 lowercase and 1 uppercase letter.\"\n",
        "\n",
        "    if not re.search('[0-9]', password):\n",
        "        return \"Invalid password: It must contain at least 1 number.\"\n",
        "\n",
        "    if not re.search('[$#@]', password):\n",
        "        return \"Invalid password: It must contain at least 1 of the characters [$#@].\"\n",
        "\n",
        "    if len(password) < 6 or len(password) > 16:\n",
        "        return \"Invalid password: It must be between 6 and 16 characters in length.\"\n",
        "\n",
        "    return \"Valid password.\"\n",
        "\n",
        "password_to_check = input(\"Enter the password to check: \")\n",
        "result = check_password_valid(password_to_check)\n",
        "print(result)\n",
        "\n"
      ],
      "metadata": {
        "id": "LbgP53vJ_a2T",
        "colab": {
          "base_uri": "https://localhost:8080/"
        },
        "outputId": "66b931b1-c2de-44b5-c927-466a99b678e6"
      },
      "execution_count": null,
      "outputs": [
        {
          "output_type": "stream",
          "name": "stdout",
          "text": [
            "Enter the password to check: 1\n",
            "Invalid password: It must contain at least 1 lowercase and 1 uppercase letter.\n"
          ]
        }
      ]
    },
    {
      "cell_type": "markdown",
      "source": [
        "---\n",
        "### Challenge 2 - triangle shape  \n",
        "\n",
        "Write a function called **evaluate_triangle_shape()** which will check if a triangle is equilateral, isosceles or scalene, based on the three side lengths entered by a user (**x**, **y** and **z**).\n",
        "\n",
        "An equilateral triangle is a triangle in which all three sides are equal.\n",
        "A scalene triangle is a triangle that has three unequal sides.\n",
        "An isosceles triangle is a triangle with (at least) two equal sides.\n",
        "\n",
        "For example:  \n",
        "A triange with side lengths                                 \n",
        "x: 6                                                                    \n",
        "y: 8                                                                    \n",
        "z: 12                                                                   \n",
        "is a *Scalene triangle*\n",
        "\n",
        "A triangle with side lengths\n",
        "x:5  \n",
        "y:3   \n",
        "z:5  \n",
        "is an *Isosceles triangle*"
      ],
      "metadata": {
        "id": "ItfugXAk_cJI"
      }
    },
    {
      "cell_type": "code",
      "source": [
        "def evaluate_triangle_shape(x, y, z):\n",
        "  if x == y == z:\n",
        "    return \"equilateral\"\n",
        "  elif x == y or x == z or y == z:\n",
        "    return \"isosceles\"\n",
        "  else:\n",
        "    return \"unequal\"\n",
        "\n",
        "# x = int(input(\"Enter the length of side x: \"))\n",
        "# y = int(input(\"Enter the length of side y: \"))\n",
        "# z = int(input(\"Enter the length of side z: \"))\n",
        "\n",
        "result = evaluate_triangle_shape(1, 1, 1)\n",
        "print(result, \": \", result == \"equilateral\")\n",
        "\n",
        "result = evaluate_triangle_shape(1, 1, 2)\n",
        "print(result, \": \", result == \"isosceles\")\n",
        "\n",
        "result = evaluate_triangle_shape(1, 2, 2)\n",
        "print(result, \": \", result == \"isosceles\")\n",
        "\n",
        "result = evaluate_triangle_shape(1, 2, 1)\n",
        "print(result, \": \", result == \"isosceles\")\n",
        "\n",
        "result = evaluate_triangle_shape(1, 2, 3)\n",
        "print(result, \": \", result == \"unequal\")\n",
        "\n"
      ],
      "metadata": {
        "id": "YhvNRSrR_fwV",
        "colab": {
          "base_uri": "https://localhost:8080/"
        },
        "outputId": "91a7a202-db97-4dd0-d137-2e2b4ba97d57"
      },
      "execution_count": null,
      "outputs": [
        {
          "output_type": "stream",
          "name": "stdout",
          "text": [
            "equilateral :  True\n",
            "isosceles :  True\n",
            "isosceles :  True\n",
            "isosceles :  True\n",
            "unequal :  True\n"
          ]
        }
      ]
    },
    {
      "cell_type": "markdown",
      "source": [
        "---\n",
        "### Challenge 3 - which season\n",
        "\n",
        "Write a function called **determine_season()** which will ask the user to enter two integers representing a **month** and **day** and prints the season for that month and day.\n",
        "\n",
        "Note:  for this exercise the season dates are:\n",
        "*  Winter December 21 to March 20    \n",
        "*  Spring March 21 to June 20  \n",
        "*  Summer June 21 to September 20  \n",
        "*  Autumn September 21 to December 20\n",
        "\n",
        "Test input:  \n",
        "Input the month (e.g. January, February etc.): 7                     \n",
        "Input the day: 31                                                       \n",
        "\n",
        "Expected output:  \n",
        "Season is summer\n",
        "\n",
        "*Note: this will require multiple and or or operators and you should use brackets to help Python know which operations to do first*  \n",
        "\n",
        "*For an extra challenge you can check that the day is valid for the month*"
      ],
      "metadata": {
        "id": "DEy3P3-O_gsI"
      }
    },
    {
      "cell_type": "code",
      "source": [
        "def determine_season(month, day):\n",
        "\n",
        "    # Check if the month and day combination is valid\n",
        "    if (month < 1 or month > 12) or (day < 1 or day > 31):\n",
        "        raise ValueError(\"Invalid input. Please enter a valid month (1-12) and day (1-31).\")\n",
        "\n",
        "    if (month == 12 and day >= 21) or (month <= 3 and day <= 20):\n",
        "        season = \"Winter\"\n",
        "    elif (month >= 3 and month < 6) or (month == 6 and day < 21):\n",
        "        season = \"Spring\"\n",
        "    elif (month >= 6 and month < 9) or (month == 9 and day < 21):\n",
        "        season = \"Summer\"\n",
        "    else:\n",
        "        season = \"Autumn\"\n",
        "\n",
        "    return season\n",
        "\n",
        "month = int(input(\"Input the month (e.g., 1 for January, 2 for February, etc.): \"))\n",
        "day = int(input(\"Input the day: \"))\n",
        "\n",
        "try:\n",
        "  season = determine_season(month, day)\n",
        "  print(\"Season is \" + season)\n",
        "except ValueError as e:\n",
        "  print(e)\n"
      ],
      "metadata": {
        "id": "5hKAawCu_iln",
        "colab": {
          "base_uri": "https://localhost:8080/"
        },
        "outputId": "80fea82b-34fd-4a50-bac9-68c1b6dec031"
      },
      "execution_count": 7,
      "outputs": [
        {
          "output_type": "stream",
          "name": "stdout",
          "text": [
            "Input the month (e.g., 1 for January, 2 for February, etc.): 3\n",
            "Input the day: 22\n",
            "Season is Spring\n"
          ]
        }
      ]
    }
  ]
}