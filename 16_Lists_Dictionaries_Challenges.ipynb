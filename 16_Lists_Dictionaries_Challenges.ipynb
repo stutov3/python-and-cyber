{
  "nbformat": 4,
  "nbformat_minor": 0,
  "metadata": {
    "colab": {
      "provenance": [],
      "include_colab_link": true
    },
    "kernelspec": {
      "name": "python3",
      "display_name": "Python 3"
    },
    "language_info": {
      "name": "python"
    }
  },
  "cells": [
    {
      "cell_type": "markdown",
      "metadata": {
        "id": "view-in-github",
        "colab_type": "text"
      },
      "source": [
        "<a href=\"https://colab.research.google.com/github/stutov3/python-and-cyber/blob/main/16_Lists_Dictionaries_Challenges.ipynb\" target=\"_parent\"><img src=\"https://colab.research.google.com/assets/colab-badge.svg\" alt=\"Open In Colab\"/></a>"
      ]
    },
    {
      "cell_type": "markdown",
      "metadata": {
        "id": "nEJLJX3J9B2k"
      },
      "source": [
        "# Some challenges to help you become more confident with using Lists, Tuples and Dictionaries\n",
        "\n",
        "---\n",
        "\n"
      ]
    },
    {
      "cell_type": "markdown",
      "metadata": {
        "id": "JvV6htgh9Nc1"
      },
      "source": [
        "### Exercise 1 - extending a list\n",
        "\n",
        "There are three ways to extend a list in Python:  \n",
        "*  use `list_name.append(item)`, `list_name.insert(item)`\n",
        "*  concatenate two lists using the + operator (e.g. new_list = list1 + list2)\n",
        "*  use `list1_name.extend(list2_name)`\n",
        "\n",
        "The last method allows us to add all the `list2` items onto `list1` and for the new, extended list to now be `list1`.  `list2` will always be added to the end of `list1`.  \n",
        "\n",
        "If the objective is to add list2 before list1 then use `list2.extend(list1)`\n",
        "\n",
        "Write a function which will:  \n",
        "*  create a list of **years** containing the years 1960, 1970, 1980, 1990, 2000  \n",
        "*  print the list of years  \n",
        "*  calculate how long ago each year was and print the year and how long ago it was (e.g. 1990 was 30 years ago)  *(Hint:  use the datetime library to get the current year)*   \n",
        "*  create a second list, **years2** containing the years 2010 and 2020, extend `years` to include these later years\n",
        "*  create a third list, **years3** containing the years 1930, 1940 and 1950 and extend the list to include all the years between 1930 and 2020\n",
        "*  print the final list\n",
        "\n",
        "Expected output:  \n",
        "[1960, 1970, 1980, 1990]  \n",
        "1960 was 61 years ago  \n",
        "1970 was 51 years ago  \n",
        "1980 was 41 years ago  \n",
        "1990 was 31 years ago  \n",
        "2000 was 21 years ago  \n",
        "[1930, 1940, 1950, 1960, 1970, 1980, 1990, 2000, 2010, 2020]"
      ]
    },
    {
      "cell_type": "code",
      "metadata": {
        "id": "QAyTVqoO8-08",
        "outputId": "e5ec6fbe-67a4-4ae6-b6bd-8edd3f51a8c3",
        "colab": {
          "base_uri": "https://localhost:8080/"
        }
      },
      "source": [
        "from datetime import datetime\n",
        "\n",
        "def extend_years_list():\n",
        "    years1 = [1960, 1970, 1980, 1990, 2000]\n",
        "\n",
        "    print(years1)\n",
        "\n",
        "    # Calculate and print how long ago each year was\n",
        "    for year in years1:\n",
        "        years_ago = datetime.now().year - year\n",
        "        print(f\"{year} was {years_ago} years ago\")\n",
        "\n",
        "    years2 = [2010, 2020]\n",
        "\n",
        "    years3 = [1930, 1940, 1950]\n",
        "    years = years3 + years1 + years2\n",
        "\n",
        "    # Print the final list\n",
        "    print(years)\n",
        "\n",
        "extend_years_list()\n"
      ],
      "execution_count": 4,
      "outputs": [
        {
          "output_type": "stream",
          "name": "stdout",
          "text": [
            "[1960, 1970, 1980, 1990, 2000]\n",
            "1960 was 63 years ago\n",
            "1970 was 53 years ago\n",
            "1980 was 43 years ago\n",
            "1990 was 33 years ago\n",
            "2000 was 23 years ago\n",
            "[1930, 1940, 1950, 1960, 1970, 1980, 1990, 2000, 2010, 2020]\n"
          ]
        }
      ]
    },
    {
      "cell_type": "markdown",
      "metadata": {
        "id": "S5iPicFzBzOW"
      },
      "source": [
        "---\n",
        "### Exercise 2 - creating a dictionary from a tuple and three lists\n",
        "\n",
        "Write a function which will create a list of dictionary items using the values in a tuple as the dictionary keys and the values in three corresponding lists as the dictionary values.\n",
        "\n",
        "*  loop through the status items in the tuple called task_status\n",
        "*  for each status, loop through the list with the same name (*Hint:  you can use eval(status) to access the list with the matching name  e.g. for task in eval(status)* )\n",
        "*  each time round this second loop, create a dictionary object with the  key:value pair {status : task}\n",
        "*  add each new dictionary to a list called **project_board** that was created as an empty list before the loops  \n",
        "*  print the project_board list\n",
        "\n",
        "Expected output:  \n",
        "\n",
        "[{'assigned': 'task1'}, {'assigned': 'task2'}, {'assigned': 'task3'}, {'inprogress': 'task4'}, {'inprogress': 'task5'}, {'inprogress': 'task6'}, {'completed': 'task7'}, {'completed': 'task8'}, {'completed': 'task9'}]\n",
        "\n"
      ]
    },
    {
      "cell_type": "code",
      "metadata": {
        "id": "KXYOSHY-C7m4",
        "outputId": "2a291104-3309-4b37-a9fb-6b10dd0ac542",
        "colab": {
          "base_uri": "https://localhost:8080/"
        }
      },
      "source": [
        "def create_project_board():\n",
        "    task_status = (\"assigned\", \"inprogress\", \"completed\")\n",
        "    assigned = ['task1', 'task2', 'task3']\n",
        "    inprogress = ['task4', 'task5', 'task6']\n",
        "    completed = ['task7', 'task8', 'task9']\n",
        "\n",
        "    project_board = []\n",
        "\n",
        "    for status in task_status:\n",
        "        for task in eval(status):\n",
        "            task_dict = {status: task}\n",
        "            project_board.append(task_dict)\n",
        "\n",
        "    print(project_board)\n",
        "\n",
        "create_project_board()\n",
        "\n"
      ],
      "execution_count": 5,
      "outputs": [
        {
          "output_type": "stream",
          "name": "stdout",
          "text": [
            "[{'assigned': 'task1'}, {'assigned': 'task2'}, {'assigned': 'task3'}, {'inprogress': 'task4'}, {'inprogress': 'task5'}, {'inprogress': 'task6'}, {'completed': 'task7'}, {'completed': 'task8'}, {'completed': 'task9'}]\n"
          ]
        }
      ]
    },
    {
      "cell_type": "markdown",
      "metadata": {
        "id": "M1BuTu9p19Ma"
      },
      "source": [
        "---\n",
        "### Exercise 3 - names and heights\n",
        "\n",
        "Write a function which will allow a user to enter the names and heights of a set of people and add each set of information as a record (dictionary) to a list. The function will stop collecting names and heights when the user enters \"STOP\" as the name.\n",
        "\n",
        "Then, the function will:  \n",
        "\n",
        "*   produce a list of names in order of the shortest person to the tallest\n",
        "*   calculate the name of the tallest person\n",
        "*   calculate the name of the shortest person\n",
        "*   calculate the average height\n",
        "*   calculate the name of the person who is closest to the average height\n",
        "\n",
        "\n",
        "\n",
        "\n"
      ]
    },
    {
      "cell_type": "code",
      "metadata": {
        "id": "reuyww3e18uv",
        "outputId": "4e3246d1-453c-4841-b384-bf3a1d460121",
        "colab": {
          "base_uri": "https://localhost:8080/"
        }
      },
      "source": [
        "\n",
        "\n",
        "def collect_person_info():\n",
        "    people_list = []\n",
        "\n",
        "    while True:\n",
        "        name = input(\"Enter the person's name (or 'STOP' to finish): \")\n",
        "\n",
        "        if name.upper() == 'STOP':\n",
        "            break\n",
        "\n",
        "        height = int(input(\"Enter height in centimeters: \"))\n",
        "\n",
        "        # insert in sorted list\n",
        "        index_to_insert = len(people_list)\n",
        "        for key, data in enumerate(people_list):\n",
        "            if data[\"height\"] > height:\n",
        "              index_to_insert = key\n",
        "              break;\n",
        "\n",
        "        person_info = {'name': name, 'height': height}\n",
        "\n",
        "        print(index_to_insert)\n",
        "        people_list.insert(index_to_insert, person_info)\n",
        "\n",
        "        print(people_list)\n",
        "\n",
        "    return people_list\n",
        "\n",
        "def analyze_people_data(sorted_people):\n",
        "    print(\"Names in order of shortest to tallest:\")\n",
        "    for person in sorted_people:\n",
        "        print(person['name'])\n",
        "\n",
        "    # Calculate the name of the tallest person\n",
        "    tallest_person = sorted_people[-1]['name']\n",
        "    print(f\"\\nThe tallest person is: {tallest_person}\")\n",
        "\n",
        "    # Calculate the name of the shortest person\n",
        "    shortest_person = sorted_people[0]['name']\n",
        "    print(f\"The shortest person is: {shortest_person}\")\n",
        "\n",
        "    # Calculate the average height\n",
        "    total_height = sum(person['height'] for person in sorted_people)\n",
        "    average_height = total_height / len(sorted_people)\n",
        "    print(\"The average height is:\", round(average_height, 2))\n",
        "\n",
        "    # Find the person closest to the average height\n",
        "    closest_person = min(sorted_people, key=lambda x: abs(x['height'] - average_height))\n",
        "    print(f\"The person closest to the average height is: {closest_person['name']}\")\n",
        "\n",
        "# Collect information from the user\n",
        "people_info = collect_person_info()\n",
        "\n",
        "# Analyze and print the collected data\n",
        "analyze_people_data(people_info)\n"
      ],
      "execution_count": 20,
      "outputs": [
        {
          "output_type": "stream",
          "name": "stdout",
          "text": [
            "Enter the person's name (or 'STOP' to finish): n5\n",
            "Enter height in centimeters: 5\n",
            "0\n",
            "[{'name': 'n5', 'height': 5}]\n",
            "Enter the person's name (or 'STOP' to finish): n10\n",
            "Enter height in centimeters: 10\n",
            "1\n",
            "[{'name': 'n5', 'height': 5}, {'name': 'n10', 'height': 10}]\n",
            "Enter the person's name (or 'STOP' to finish): n4\n",
            "Enter height in centimeters: 4\n",
            "0\n",
            "[{'name': 'n4', 'height': 4}, {'name': 'n5', 'height': 5}, {'name': 'n10', 'height': 10}]\n",
            "Enter the person's name (or 'STOP' to finish): stop\n",
            "Names in order of shortest to tallest:\n",
            "n4\n",
            "n5\n",
            "n10\n",
            "\n",
            "The tallest person is: n10\n",
            "The shortest person is: n4\n",
            "The average height is: 6.33\n",
            "The person closest to the average height is: n5\n"
          ]
        }
      ]
    }
  ]
}