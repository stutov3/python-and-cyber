{
  "cells": [
    {
      "cell_type": "markdown",
      "metadata": {
        "id": "Vvcpt-18AqVE"
      },
      "source": [
        "<a href=\"https://colab.research.google.com/github/StefanMeyer7/Python-Fundamentals/blob/main/LoopsChallenges.ipynb\" target=\"_parent\"><img src=\"https://colab.research.google.com/assets/colab-badge.svg\" alt=\"Open In Colab\"/></a>"
      ]
    },
    {
      "cell_type": "markdown",
      "metadata": {
        "id": "g5rcFjEdS6JG"
      },
      "source": [
        "# Loop Challenges\n",
        "\n",
        "---\n",
        "\n",
        "Each of these challenges will need a loop.  This may be a **while** loop or a **for** loop, you will need to decide which is needed."
      ]
    },
    {
      "cell_type": "code",
      "execution_count": null,
      "metadata": {
        "id": "7-LF5xNES60g"
      },
      "outputs": [],
      "source": [
        "---\n",
        "## Challenge 1 - Sum of random numbers\n",
        "Write a function called **random_generator()** where python generates random numbers between 1 and 100 until the number 1 is generated.\n",
        "\n",
        "* use `randint(1, 100)` to generate random numbers\n",
        "* keep a running `total` - add numbers as they are generated\n",
        "* print `total` at the end\n",
        "* print the final generated number (should be 1) to check your function is working\n",
        "\n",
        "Example input (computer):\n",
        "\n",
        "10\n",
        "78\n",
        "6\n",
        "42\n",
        "56\n",
        "81\n",
        "15\n",
        "1\n",
        "\n",
        "Expected output:\n",
        "\n",
        "289\n",
        "1"
      ]
    },
    {
      "cell_type": "code",
      "execution_count": 1,
      "metadata": {
        "id": "9xiowSv3S-Z9",
        "outputId": "8f44ab5e-4ee3-473e-ea2b-20c0f0f2fb5b",
        "colab": {
          "base_uri": "https://localhost:8080/"
        }
      },
      "outputs": [
        {
          "output_type": "stream",
          "name": "stdout",
          "text": [
            "49\n",
            "39\n",
            "70\n",
            "17\n",
            "56\n",
            "31\n",
            "40\n",
            "90\n",
            "91\n",
            "12\n",
            "41\n",
            "100\n",
            "99\n",
            "95\n",
            "14\n",
            "70\n",
            "15\n",
            "9\n",
            "68\n",
            "71\n",
            "83\n",
            "79\n",
            "7\n",
            "46\n",
            "94\n",
            "63\n",
            "90\n",
            "37\n",
            "46\n",
            "8\n",
            "28\n",
            "95\n",
            "32\n",
            "73\n",
            "2\n",
            "67\n",
            "27\n",
            "31\n",
            "76\n",
            "6\n",
            "32\n",
            "43\n",
            "11\n",
            "30\n",
            "83\n",
            "88\n",
            "90\n",
            "73\n",
            "72\n",
            "97\n",
            "65\n",
            "62\n",
            "13\n",
            "94\n",
            "18\n",
            "74\n",
            "61\n",
            "85\n",
            "1\n",
            "Total: 3159\n",
            "Final generated number: 1\n"
          ]
        }
      ],
      "source": [
        "import random\n",
        "\n",
        "def random_generator():\n",
        "    total = 0\n",
        "    generated_number = None\n",
        "\n",
        "    while generated_number != 1:\n",
        "        current_number = random.randint(1, 100)\n",
        "        total += current_number\n",
        "        print(current_number)\n",
        "\n",
        "        generated_number = current_number\n",
        "\n",
        "    print(\"Total:\", total)\n",
        "    print(\"Final generated number:\", generated_number)\n",
        "\n",
        "random_generator()\n"
      ]
    },
    {
      "cell_type": "markdown",
      "metadata": {
        "id": "wyrNicTMS_gA"
      },
      "source": [
        "---\n",
        "## Challenge 2 - Factorials\n",
        "\n",
        "Factorial of any number n is represented by n! and is equal to 1*2*3*....*(n-1)*n.\n",
        "\n",
        "E.g.   \n",
        "* 4! = 1 * 2 * 3 * 4 = 24  \n",
        "* 3! = 3 * 2 * 1 = 6\n",
        "* 2! = 2 * 1 = 2  \n",
        " Also,\n",
        "* 1! = 1\n",
        "* 0! = 1\n",
        "\n",
        "Write a function called **calculate_factorial()** which calculates the factorial of a user inputed number.\n",
        "\n",
        "* use a *while* loop to control repetition while the number being multiplied by is less than or equal to the number it is finding the factorial of, multiply each time round the loop  \n",
        "* print the answer at the end\n",
        "\n",
        "Test input:  \n",
        "\n",
        "6   \n",
        "10  \n",
        "1  \n",
        "0  \n",
        "\n",
        "Expected output:  \n",
        "\n",
        "720  \n",
        "3,628,800  \n",
        "1  \n",
        "1  \n",
        "\n",
        "### Extra challenge\n",
        "\n",
        "Can you write a function to calculate factorials but using a *for* loop instead?\n",
        "\n",
        "\n"
      ]
    },
    {
      "cell_type": "code",
      "execution_count": 8,
      "metadata": {
        "id": "4g2VEOisTAVD",
        "outputId": "31405802-f2cf-4c9f-ecbd-fd6565e49256",
        "colab": {
          "base_uri": "https://localhost:8080/"
        }
      },
      "outputs": [
        {
          "output_type": "stream",
          "name": "stdout",
          "text": [
            "Enter a number to calculate its factorial: 6\n",
            "720\n"
          ]
        }
      ],
      "source": [
        "def calculate_factorial():\n",
        "    number = int(input(\"Enter a number to calculate its factorial: \"))\n",
        "    factorial_result = 1\n",
        "\n",
        "    for i in range(1, number + 1):\n",
        "        factorial_result *= i\n",
        "\n",
        "    print(factorial_result)\n",
        "\n",
        "calculate_factorial()\n"
      ]
    },
    {
      "cell_type": "markdown",
      "metadata": {
        "id": "Ygv7l2dQTBvg"
      },
      "source": [
        "---\n",
        "## Challenge 3 - rolling a dice\n",
        "\n",
        "Write a function called **roll_dice()** that will use the `randint()` function from random to create random dice rolls for two dice.\n",
        "\n",
        "*  'roll' the two dice 6 times and count how many doubles were rolled in those 6 rolls.\n",
        "*  use a *for* loop\n",
        "\n",
        "*Hint: to throw a dice use the following:*\n",
        "\n",
        "`dice1 = randint(1,6)`\n",
        "\n",
        "Example input (computer):  \n",
        "\n",
        "4 1   \n",
        "5 5   \n",
        "6 3   \n",
        "2 2   \n",
        "3 4  \n",
        "1 1\n",
        "\n",
        "Expected output:\n",
        "\n",
        "3   "
      ]
    },
    {
      "cell_type": "code",
      "execution_count": 11,
      "metadata": {
        "id": "POAOeLsPTCl_",
        "outputId": "dbf92fda-3f67-4e61-9cb9-39d04f8878da",
        "colab": {
          "base_uri": "https://localhost:8080/"
        }
      },
      "outputs": [
        {
          "output_type": "stream",
          "name": "stdout",
          "text": [
            "1 5\n",
            "5 4\n",
            "1 1\n",
            "1 2\n",
            "2 1\n",
            "5 5\n",
            "2\n"
          ]
        }
      ],
      "source": [
        "from random import randint\n",
        "\n",
        "def roll_dice():\n",
        "    double_count = 0\n",
        "\n",
        "    for _ in range(6):\n",
        "        dice1 = randint(1, 6)\n",
        "        dice2 = randint(1, 6)\n",
        "\n",
        "        print(dice1, dice2)\n",
        "\n",
        "        if dice1 == dice2:\n",
        "            double_count += 1\n",
        "\n",
        "    print(double_count)\n",
        "\n",
        "roll_dice()\n",
        "\n"
      ]
    },
    {
      "cell_type": "markdown",
      "metadata": {
        "id": "5M54SutJTEGn"
      },
      "source": [
        "---\n",
        "## Challenge 4 - fizz buzz\n",
        "\n",
        "Write a function called **fizz_buzz()** using a *for* loop which:\n",
        "\n",
        "* iterates over the numbers 1 to 30   \n",
        "* if the **number** is a multiple of 3 - print \"fizz\" instead of the `number`  \n",
        "* if it is a multiple of 5 - print \"buzz\" instead of the `number`   \n",
        "* if it is a multiple of both 3 and 5 - print \"fizzbuzz\" instead of the `number`    \n",
        "\n",
        "Expected Output:   \n",
        "1  \n",
        "2  \n",
        "fizz  \n",
        "4  \n",
        "buzz  \n",
        "fizz  \n",
        "7  \n",
        "8  \n",
        "fizz  \n",
        "buzz  \n",
        "11  \n",
        "fizz  \n",
        "13  \n",
        "14  \n",
        "fizz  \n",
        "16  \n",
        "17  \n",
        "fizz  \n",
        "19  \n",
        "20  \n",
        "fizz  \n",
        "22  \n",
        "23  \n",
        "fizz  \n",
        "25  \n",
        "26  \n",
        "fizz  \n",
        "28  \n",
        "29  \n",
        "fizzbuzz  "
      ]
    },
    {
      "cell_type": "code",
      "execution_count": 12,
      "metadata": {
        "id": "jWibkGirTF1i",
        "outputId": "41ce69fb-073e-4b50-bde6-49235ad1590f",
        "colab": {
          "base_uri": "https://localhost:8080/"
        }
      },
      "outputs": [
        {
          "output_type": "stream",
          "name": "stdout",
          "text": [
            "1\n",
            "2\n",
            "fizz\n",
            "4\n",
            "buzz\n",
            "fizz\n",
            "7\n",
            "8\n",
            "fizz\n",
            "buzz\n",
            "11\n",
            "fizz\n",
            "13\n",
            "14\n",
            "fizzbuzz\n",
            "16\n",
            "17\n",
            "fizz\n",
            "19\n",
            "buzz\n",
            "fizz\n",
            "22\n",
            "23\n",
            "fizz\n",
            "buzz\n",
            "26\n",
            "fizz\n",
            "28\n",
            "29\n",
            "fizzbuzz\n"
          ]
        }
      ],
      "source": [
        "def fizz_buzz():\n",
        "    for number in range(1, 31):\n",
        "        if number % 3 == 0 and number % 5 == 0:\n",
        "            print(\"fizzbuzz\")\n",
        "        elif number % 3 == 0:\n",
        "            print(\"fizz\")\n",
        "        elif number % 5 == 0:\n",
        "            print(\"buzz\")\n",
        "        else:\n",
        "            print(number)\n",
        "\n",
        "fizz_buzz()\n"
      ]
    },
    {
      "cell_type": "markdown",
      "metadata": {
        "id": "FYH6Wb8BTH8S"
      },
      "source": [
        "---\n",
        "## Challenge 5 - perfect numbers\n",
        "\n",
        "Write a function called **check_perfect()** which checks whether a given number is perfect or not.\n",
        "\n",
        "* *a perfect number is a positive integer that is equal to the sum of its positive factors (factors > 0) excluding the number itself.*\n",
        "* *it is also half the sum of all positive factors including itself*\n",
        "\n",
        "\n",
        "*For example:*  \n",
        "*6 is a perfect number. It's only factors are 1, 2 & 3.   \n",
        "1 + 2 + 3 = 6  \n",
        "(1 + 2 + 3 + 6)/2 =6*  \n",
        "\n",
        "**Your function will:**\n",
        "\n",
        "* ask the user to input a **number**\n",
        "* find all of the given numbers that are positive factors, adding them together as it goes through the loop\n",
        "* check whether `number` is perfect or not (both checks)  \n",
        "* print either `number` is perfect or `number` is not perfect\n",
        "\n",
        "Test input:  \n",
        "6   \n",
        "23   \n",
        "28\n",
        "\n",
        "Expected output:  \n",
        "6 is perfect   \n",
        "23 is not perfect  \n",
        "28 is perfect    \n",
        "\n",
        "\n",
        "\n"
      ]
    },
    {
      "cell_type": "code",
      "execution_count": 15,
      "metadata": {
        "id": "sIozWG1ITIot",
        "outputId": "bd571699-e1c5-4d01-8931-95296c83102e",
        "colab": {
          "base_uri": "https://localhost:8080/"
        }
      },
      "outputs": [
        {
          "output_type": "stream",
          "name": "stdout",
          "text": [
            "Enter a number: 28\n",
            "28 is a perfect number.\n"
          ]
        }
      ],
      "source": [
        "def check_perfect():\n",
        "    number = int(input(\"Enter a number: \"))\n",
        "    factors_sum = 0\n",
        "\n",
        "    for i in range(1, number):\n",
        "        if number % i == 0:\n",
        "            factors_sum += i\n",
        "\n",
        "    if factors_sum == number and factors_sum * 2 == (number + factors_sum):\n",
        "        print(number, \"is a perfect number.\")\n",
        "    else:\n",
        "        print(number, \"is not a perfect number\")\n",
        "\n",
        "check_perfect()\n"
      ]
    },
    {
      "cell_type": "markdown",
      "metadata": {
        "id": "fzDqi_nnTLbB"
      },
      "source": [
        "## Challenge 6 - Passcode   \n",
        "\n",
        "Write a function called **guess_letter(passcode, missing_letter)** which will allow a user to play a game with the computer.  \n",
        "\n",
        "* the computer needs to 'generate' a random passcode with a missing letter (this is done for you)   \n",
        "* the user has up to three attempts to guess the missing letter in a passcode.  \n",
        "\n",
        "### the passcode generator  \n",
        "\n",
        "This code is given to you and will choose 4 letters in the range A-Z (capitals only) and randomly selecting one to be replaced by a *  \n",
        "\n",
        "**Your function should follow these rules:**\n",
        "\n",
        "*  ask the user to enter the missing **letter**  \n",
        "*  count the **attempt**  \n",
        "* if the letter is correct, print the message \"Correct passcode\" and then stop    \n",
        "* if the letter is incorrect, print the message, \"You have `attempts` attempts left\"  \n",
        "* if three wrong attempts have been made and the user hasn't entered the correct letter, print \"No more attempts\"  \n",
        "\n",
        "Example input (computer):  \n",
        "\n",
        "NR*R , B\n",
        "\n",
        "Example input (user):  \n",
        "A    \n",
        "B  \n",
        "C  \n",
        "\n",
        "Expected output:  \n",
        "No more attempts   \n",
        "\n",
        "Example input (computer):  \n",
        "A*RD , T  \n",
        "\n",
        "Example input (user):  \n",
        "T    \n",
        "\n",
        "Expected output:  \n",
        "Correct passcode  \n",
        "\n",
        "Example input (computer):  \n",
        "*FES , F  \n",
        "\n",
        "Example input (user):  \n",
        "T\n",
        "F    \n",
        "\n",
        "Expected output:  \n",
        "You have 2 attempts left\n",
        "Correct passcode"
      ]
    },
    {
      "cell_type": "code",
      "execution_count": 20,
      "metadata": {
        "id": "QinC49_9TTZG",
        "outputId": "6df1a195-21ac-4409-fb30-2010debf150d",
        "colab": {
          "base_uri": "https://localhost:8080/"
        }
      },
      "outputs": [
        {
          "output_type": "stream",
          "name": "stdout",
          "text": [
            "Enter the missing letter: A\n",
            "You have attempts 2 left G\n",
            "Enter the missing letter: G\n",
            "Correct passcode\n"
          ]
        }
      ],
      "source": [
        "### importing package random\n",
        "from random import choice, randint\n",
        "\n",
        "def guess_passcode(passcode, missing_letter):\n",
        "# add your code below here:\n",
        "    MAX_ATTEMPTS = 3\n",
        "\n",
        "    for i in range (1, MAX_ATTEMPTS + 1):\n",
        "        user_guess = input(\"Enter the missing letter: \").upper()\n",
        "\n",
        "        if user_guess == missing_letter:\n",
        "            print(\"Correct passcode\")\n",
        "            return\n",
        "        else:\n",
        "            print(\"You have attempts\", MAX_ATTEMPTS - i, \"left\")\n",
        "\n",
        "    print(\"No more attempts\")\n",
        "\n",
        "\n",
        "### code to generate a passcode with a missing letter, then run the function guess_passcode\n",
        "### DO NOT change anything below here\n",
        "passcode = \"\"\n",
        "letters = [chr(a) for a in range(ord('A'),ord('Z')+1)] # generate the letter between A and Z\n",
        "missing_position = randint(0,4)\n",
        "missing_letter = \"*\"\n",
        "for i in range(4):\n",
        "  letter = choice(letters)\n",
        "  if i == missing_position:\n",
        "    missing_letter = letter\n",
        "    passcode += \"*\"\n",
        "  else:\n",
        "    passcode += letter\n",
        "\n",
        "guess_passcode(passcode, missing_letter)"
      ]
    }
  ],
  "metadata": {
    "colab": {
      "provenance": []
    },
    "kernelspec": {
      "display_name": "Python 3",
      "name": "python3"
    },
    "language_info": {
      "name": "python"
    }
  },
  "nbformat": 4,
  "nbformat_minor": 0
}